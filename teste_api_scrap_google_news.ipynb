{
  "cells": [
    {
      "cell_type": "markdown",
      "metadata": {
        "id": "view-in-github",
        "colab_type": "text"
      },
      "source": [
        "<a href=\"https://colab.research.google.com/github/pstorrer/Teste_Scrap_GoogleNews/blob/main/teste_api_scrap_google_news.ipynb\" target=\"_parent\"><img src=\"https://colab.research.google.com/assets/colab-badge.svg\" alt=\"Open In Colab\"/></a>"
      ]
    },
    {
      "cell_type": "code",
      "execution_count": null,
      "metadata": {
        "id": "LWw4rOsjycYd"
      },
      "outputs": [],
      "source": [
        " pip install feedparser"
      ]
    },
    {
      "cell_type": "code",
      "execution_count": null,
      "metadata": {
        "id": "7AaowLVywibj"
      },
      "outputs": [],
      "source": [
        "import feedparser\n",
        "\n",
        "class googleNewsFeedScraper:\n",
        "    def __init__(self, query):\n",
        "        self.query = query\n",
        "\n",
        "    def scrape_google_news_feed(self):\n",
        "        rss_url = f'https://news.google.com/rss/search?q={self.query}&hl=en-US&gl=US&ceid=US:en'\n",
        "        feed = feedparser.parse(rss_url)\n",
        "\n",
        "        if feed.entries:\n",
        "\n",
        "            for entry in feed.entries:\n",
        "              print(entry)\n",
        "                #title = entry.title\n",
        "                #link = entry.link\n",
        "                #description = entry.description\n",
        "                #pubdate = entry.published\n",
        "                #source = entry.source\n",
        "                #print(f\"Title: {title}\\nLink: {link}\\nDescription: {description}\\nPublished: {pubdate}\\nSource: {source}\")\n",
        "                #print(\"-+-\")\n",
        "        else:\n",
        "            print(\"Nothing Found!\")\n",
        "\n",
        "if __name__ == \"__main__\":\n",
        "    query = 'Curitiba'\n",
        "    scraper = googleNewsFeedScraper(query)\n",
        "    scraper.scrape_google_news_feed()"
      ]
    }
  ],
  "metadata": {
    "colab": {
      "toc_visible": true,
      "provenance": [],
      "authorship_tag": "ABX9TyOJE0GXCiky7zTDYS26e18K",
      "include_colab_link": true
    },
    "kernelspec": {
      "display_name": "Python 3",
      "name": "python3"
    },
    "language_info": {
      "name": "python"
    }
  },
  "nbformat": 4,
  "nbformat_minor": 0
}